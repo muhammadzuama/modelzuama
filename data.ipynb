{
 "cells": [
  {
   "cell_type": "code",
   "execution_count": 1,
   "metadata": {},
   "outputs": [],
   "source": [
    "import tensorflow as tf\n",
    "import os"
   ]
  },
  {
   "cell_type": "code",
   "execution_count": 2,
   "metadata": {},
   "outputs": [
    {
     "name": "stdout",
     "output_type": "stream",
     "text": [
      "120\n",
      "120\n",
      "120\n"
     ]
    },
    {
     "ename": "FileNotFoundError",
     "evalue": "[Errno 2] No such file or directory: 'Fruits Classification/train/Apple'",
     "output_type": "error",
     "traceback": [
      "\u001b[0;31m---------------------------------------------------------------------------\u001b[0m",
      "\u001b[0;31mFileNotFoundError\u001b[0m                         Traceback (most recent call last)",
      "\u001b[1;32m/Users/muhammadzuamaalamin/Documents/Capstone/modelzuama/data.ipynb Cell 2\u001b[0m line \u001b[0;36m1\n\u001b[1;32m      <a href='vscode-notebook-cell:/Users/muhammadzuamaalamin/Documents/Capstone/modelzuama/data.ipynb#W1sZmlsZQ%3D%3D?line=7'>8</a>\u001b[0m \u001b[39mprint\u001b[39m(\u001b[39mlen\u001b[39m(os\u001b[39m.\u001b[39mlistdir(val_dir2)))\n\u001b[1;32m      <a href='vscode-notebook-cell:/Users/muhammadzuamaalamin/Documents/Capstone/modelzuama/data.ipynb#W1sZmlsZQ%3D%3D?line=8'>9</a>\u001b[0m \u001b[39mprint\u001b[39m(\u001b[39mlen\u001b[39m(os\u001b[39m.\u001b[39mlistdir(val_dir3)))\n\u001b[0;32m---> <a href='vscode-notebook-cell:/Users/muhammadzuamaalamin/Documents/Capstone/modelzuama/data.ipynb#W1sZmlsZQ%3D%3D?line=9'>10</a>\u001b[0m \u001b[39mprint\u001b[39m(\u001b[39m'\u001b[39m\u001b[39mjumlah apple : \u001b[39m\u001b[39m'\u001b[39m, \u001b[39mlen\u001b[39m(os\u001b[39m.\u001b[39;49mlistdir(apple_dir)))\n\u001b[1;32m     <a href='vscode-notebook-cell:/Users/muhammadzuamaalamin/Documents/Capstone/modelzuama/data.ipynb#W1sZmlsZQ%3D%3D?line=10'>11</a>\u001b[0m \u001b[39mprint\u001b[39m(\u001b[39m'\u001b[39m\u001b[39mjumlah banana : \u001b[39m\u001b[39m'\u001b[39m, \u001b[39mlen\u001b[39m(os\u001b[39m.\u001b[39mlistdir(banana_dir)))\n\u001b[1;32m     <a href='vscode-notebook-cell:/Users/muhammadzuamaalamin/Documents/Capstone/modelzuama/data.ipynb#W1sZmlsZQ%3D%3D?line=11'>12</a>\u001b[0m \u001b[39mprint\u001b[39m(\u001b[39m'\u001b[39m\u001b[39mjumlah mango : \u001b[39m\u001b[39m'\u001b[39m, \u001b[39mlen\u001b[39m(os\u001b[39m.\u001b[39mlistdir(mango_dir)))\n",
      "\u001b[0;31mFileNotFoundError\u001b[0m: [Errno 2] No such file or directory: 'Fruits Classification/train/Apple'"
     ]
    }
   ],
   "source": [
    "\n",
    "apple_dir= 'Fruits Classification/train/Apple'\n",
    "banana_dir= 'Fruits Classification/train/Banana'\n",
    "mango_dir= 'Fruits Classification/train/Mango'\n",
    "val_dir1='/Users/muhammadzuamaalamin/Documents/Capstone/Fruits Classification/valid/Mango'\n",
    "val_dir2='/Users/muhammadzuamaalamin/Documents/Capstone/Fruits Classification/valid/Banana'\n",
    "val_dir3='/Users/muhammadzuamaalamin/Documents/Capstone/Fruits Classification/valid/Apple'\n",
    "print(len(os.listdir(val_dir1)))\n",
    "print(len(os.listdir(val_dir2)))\n",
    "print(len(os.listdir(val_dir3)))\n",
    "print('jumlah apple : ', len(os.listdir(apple_dir)))\n",
    "print('jumlah banana : ', len(os.listdir(banana_dir)))\n",
    "print('jumlah mango : ', len(os.listdir(mango_dir)))\n",
    "\n",
    "apple_file = os.listdir(apple_dir)\n",
    "banana_file = os.listdir(banana_dir)\n",
    "mango_file=os.listdir(mango_dir)"
   ]
  },
  {
   "cell_type": "code",
   "execution_count": 18,
   "metadata": {},
   "outputs": [
    {
     "name": "stdout",
     "output_type": "stream",
     "text": [
      "Found 2504 images belonging to 3 classes.\n"
     ]
    },
    {
     "name": "stdout",
     "output_type": "stream",
     "text": [
      "Found 360 images belonging to 3 classes.\n"
     ]
    }
   ],
   "source": [
    "from tensorflow.keras.preprocessing.image import ImageDataGenerator\n",
    "\n",
    "# Direktori pelatihan\n",
    "train_dir = '/Users/muhammadzuamaalamin/Documents/Capstone/Fruits Classification/train'\n",
    "# Direktori validasi\n",
    "validation_dir = '/Users/muhammadzuamaalamin/Documents/Capstone/Fruits Classification/valid'\n",
    "\n",
    "training_datagen = ImageDataGenerator(\n",
    "        rescale=1. / 255,\n",
    "        rotation_range=40,\n",
    "        horizontal_flip=True,\n",
    "        shear_range=0.2,\n",
    "        zoom_range=0.2,\n",
    "        validation_split=0) \n",
    "\n",
    "validation_datagen = ImageDataGenerator(rescale=1.0 / 255,validation_split=0.1 )\n",
    "\n",
    "# Flow dari direktori pelatihan\n",
    "train_generator=  training_datagen.flow_from_directory(train_dir,\n",
    "                                                    batch_size = 20,\n",
    "                                                    class_mode = 'categorical',\n",
    "                                                    target_size = (150, 150),\n",
    "                                                    subset='training')\n",
    "\n",
    "validation_generator = validation_datagen.flow_from_directory(validation_dir,\n",
    "                                                                  batch_size=20,\n",
    "                                                                  class_mode = 'categorical',\n",
    "                                                                  target_size=(150, 150),\n",
    "                                                                  )"
   ]
  },
  {
   "cell_type": "code",
   "execution_count": 19,
   "metadata": {},
   "outputs": [
    {
     "name": "stdout",
     "output_type": "stream",
     "text": [
      "Model: \"sequential_2\"\n",
      "_________________________________________________________________\n",
      " Layer (type)                Output Shape              Param #   \n",
      "=================================================================\n",
      " conv2d_8 (Conv2D)           (None, 148, 148, 64)      1792      \n",
      "                                                                 \n",
      " max_pooling2d_8 (MaxPoolin  (None, 74, 74, 64)        0         \n",
      " g2D)                                                            \n",
      "                                                                 \n",
      " conv2d_9 (Conv2D)           (None, 72, 72, 64)        36928     \n",
      "                                                                 \n",
      " max_pooling2d_9 (MaxPoolin  (None, 36, 36, 64)        0         \n",
      " g2D)                                                            \n",
      "                                                                 \n",
      " conv2d_10 (Conv2D)          (None, 34, 34, 128)       73856     \n",
      "                                                                 \n",
      " max_pooling2d_10 (MaxPooli  (None, 17, 17, 128)       0         \n",
      " ng2D)                                                           \n",
      "                                                                 \n",
      " conv2d_11 (Conv2D)          (None, 15, 15, 128)       147584    \n",
      "                                                                 \n",
      " max_pooling2d_11 (MaxPooli  (None, 7, 7, 128)         0         \n",
      " ng2D)                                                           \n",
      "                                                                 \n",
      " flatten_2 (Flatten)         (None, 6272)              0         \n",
      "                                                                 \n",
      " dense_7 (Dense)             (None, 256)               1605888   \n",
      "                                                                 \n",
      " dropout_3 (Dropout)         (None, 256)               0         \n",
      "                                                                 \n",
      " dense_8 (Dense)             (None, 128)               32896     \n",
      "                                                                 \n",
      " dense_9 (Dense)             (None, 3)                 387       \n",
      "                                                                 \n",
      "=================================================================\n",
      "Total params: 1899331 (7.25 MB)\n",
      "Trainable params: 1899331 (7.25 MB)\n",
      "Non-trainable params: 0 (0.00 Byte)\n",
      "_________________________________________________________________\n"
     ]
    }
   ],
   "source": [
    "model = tf.keras.models.Sequential([\n",
    "    # Note the input shape is the desired size of the image 150x150 with 3 bytes color\n",
    "    # This is the first convolution\n",
    "    tf.keras.layers.Conv2D(64, (3,3), activation='relu', input_shape=(150, 150, 3)),\n",
    "    tf.keras.layers.MaxPooling2D(2, 2),\n",
    "    # The second convolution\n",
    "    tf.keras.layers.Conv2D(64, (3,3), activation='relu'),\n",
    "    tf.keras.layers.MaxPooling2D(2,2),\n",
    "    # The third convolution\n",
    "    tf.keras.layers.Conv2D(128, (3,3), activation='relu'),\n",
    "    tf.keras.layers.MaxPooling2D(2,2),\n",
    "    # The fourth convolution\n",
    "    tf.keras.layers.Conv2D(128, (3,3), activation='relu'),\n",
    "    tf.keras.layers.MaxPooling2D(2,2),\n",
    "    # # Flatten the results to feed into a DNN\n",
    "    tf.keras.layers.Flatten(),\n",
    "    tf.keras.layers.Dense(256, activation='relu'),\n",
    "    tf.keras.layers.Dropout(0.3),\n",
    "    tf.keras.layers.Dense(128, activation='relu'),\n",
    "    tf.keras.layers.Dense(3, activation='softmax')\n",
    "])\n",
    "\n",
    "model.summary()"
   ]
  },
  {
   "cell_type": "code",
   "execution_count": 22,
   "metadata": {},
   "outputs": [
    {
     "name": "stderr",
     "output_type": "stream",
     "text": [
      "WARNING:absl:At this time, the v2.11+ optimizer `tf.keras.optimizers.Adam` runs slowly on M1/M2 Macs, please use the legacy Keras optimizer instead, located at `tf.keras.optimizers.legacy.Adam`.\n"
     ]
    }
   ],
   "source": [
    "from tensorflow.keras.optimizers import legacy\n",
    "\n",
    "optimizer = tf.keras.optimizers.Adam(learning_rate=0.001)\n",
    "model.compile(optimizer='Adam', loss='categorical_crossentropy', metrics=['accuracy'])\n"
   ]
  },
  {
   "cell_type": "code",
   "execution_count": 24,
   "metadata": {},
   "outputs": [
    {
     "name": "stdout",
     "output_type": "stream",
     "text": [
      "Epoch 1/25\n",
      "126/126 [==============================] - 23s 178ms/step - loss: 0.7630 - accuracy: 0.6569 - val_loss: 0.7820 - val_accuracy: 0.6639\n",
      "Epoch 2/25\n",
      "126/126 [==============================] - 23s 180ms/step - loss: 0.7513 - accuracy: 0.6713 - val_loss: 0.7255 - val_accuracy: 0.6778\n",
      "Epoch 3/25\n",
      "126/126 [==============================] - 23s 179ms/step - loss: 0.7324 - accuracy: 0.6689 - val_loss: 0.8159 - val_accuracy: 0.5861\n",
      "Epoch 4/25\n",
      "126/126 [==============================] - 23s 179ms/step - loss: 0.7223 - accuracy: 0.6797 - val_loss: 0.7800 - val_accuracy: 0.6917\n",
      "Epoch 5/25\n",
      "126/126 [==============================] - 23s 181ms/step - loss: 0.7095 - accuracy: 0.6913 - val_loss: 0.6861 - val_accuracy: 0.7028\n",
      "Epoch 6/25\n",
      "126/126 [==============================] - 22s 178ms/step - loss: 0.7391 - accuracy: 0.6837 - val_loss: 0.7276 - val_accuracy: 0.6861\n",
      "Epoch 7/25\n",
      "126/126 [==============================] - 22s 178ms/step - loss: 0.6924 - accuracy: 0.6925 - val_loss: 0.6710 - val_accuracy: 0.7167\n",
      "Epoch 8/25\n",
      "126/126 [==============================] - 23s 178ms/step - loss: 0.6823 - accuracy: 0.7041 - val_loss: 0.6293 - val_accuracy: 0.7194\n",
      "Epoch 9/25\n",
      "126/126 [==============================] - 22s 177ms/step - loss: 0.6782 - accuracy: 0.7117 - val_loss: 0.6971 - val_accuracy: 0.7278\n",
      "Epoch 10/25\n",
      " 32/126 [======>.......................] - ETA: 16s - loss: 0.6399 - accuracy: 0.7328"
     ]
    }
   ],
   "source": [
    "history = model.fit(train_generator, epochs=25, steps_per_epoch=len(train_generator), validation_data=validation_generator, verbose=1, validation_steps=len(validation_generator))"
   ]
  }
 ],
 "metadata": {
  "kernelspec": {
   "display_name": "Python 3",
   "language": "python",
   "name": "python3"
  },
  "language_info": {
   "codemirror_mode": {
    "name": "ipython",
    "version": 3
   },
   "file_extension": ".py",
   "mimetype": "text/x-python",
   "name": "python",
   "nbconvert_exporter": "python",
   "pygments_lexer": "ipython3",
   "version": "3.11.3"
  }
 },
 "nbformat": 4,
 "nbformat_minor": 2
}
